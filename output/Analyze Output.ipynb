{
 "cells": [
  {
   "cell_type": "code",
   "execution_count": 1,
   "id": "ca62d938",
   "metadata": {},
   "outputs": [
    {
     "name": "stderr",
     "output_type": "stream",
     "text": [
      "/Users/Tobin/opt/anaconda3/envs/Jim/lib/python3.11/site-packages/lightkurve/config/__init__.py:119: UserWarning: The default Lightkurve cache directory, used by download(), etc., has been moved to /Users/Tobin/.lightkurve/cache. Please move all the files in the legacy directory /Users/Tobin/.lightkurve-cache to the new location and remove the legacy directory. Refer to https://docs.lightkurve.org/reference/config.html#default-cache-directory-migration for more information.\n",
      "  warnings.warn(\n"
     ]
    }
   ],
   "source": [
    "from astropy.table import Table, join, MaskedColumn, vstack, Column\n",
    "from matplotlib import pyplot as plt\n",
    "\n",
    "import h5py\n",
    "import numpy as np\n",
    "import os\n",
    "import fnmatch\n",
    "import pandas as pd\n",
    "from lightkurve import TessLightCurve\n",
    "import astropy.units as u"
   ]
  },
  {
   "cell_type": "code",
   "execution_count": 9,
   "id": "7a363d85",
   "metadata": {},
   "outputs": [
    {
     "name": "stdout",
     "output_type": "stream",
     "text": [
      "<KeysViewHDF5 ['flares', 'gp', 'injections', 'lc', 'recovered']>\n",
      "<KeysViewHDF5 ['flare_mask', 'flux', 'flux_err', 'time']>\n",
      "<KeysViewHDF5 ['equivalent_durations', 'start_times', 'stop_times']>\n",
      "<KeysViewHDF5 ['amps', 'fwhms', 'insert_points']>\n",
      "<KeysViewHDF5 ['mu', 'variance']>\n",
      "24\n"
     ]
    },
    {
     "data": {
      "text/plain": [
       "array([[False, False, False, False, False, False, False, False,  True,\n",
       "        False,  True,  True, False,  True,  True,  True, False,  True,\n",
       "         True,  True,  True,  True,  True,  True,  True,  True,  True,\n",
       "         True,  True,  True],\n",
       "       [False, False, False, False, False, False, False, False, False,\n",
       "         True,  True,  True,  True,  True,  True,  True,  True,  True,\n",
       "         True,  True,  True,  True,  True,  True,  True,  True,  True,\n",
       "         True,  True,  True],\n",
       "       [False, False, False, False, False,  True,  True, False,  True,\n",
       "         True,  True,  True,  True,  True,  True,  True,  True,  True,\n",
       "         True,  True,  True,  True,  True,  True,  True,  True,  True,\n",
       "        False,  True,  True],\n",
       "       [False, False, False,  True, False, False,  True,  True,  True,\n",
       "         True,  True,  True,  True, False,  True,  True,  True,  True,\n",
       "         True,  True,  True,  True,  True,  True,  True,  True,  True,\n",
       "         True,  True,  True],\n",
       "       [False, False, False,  True, False, False,  True,  True, False,\n",
       "         True, False,  True,  True, False,  True,  True,  True,  True,\n",
       "         True,  True,  True,  True,  True,  True,  True, False,  True,\n",
       "         True,  True,  True],\n",
       "       [False, False, False, False, False,  True, False,  True,  True,\n",
       "         True,  True,  True,  True,  True,  True,  True,  True,  True,\n",
       "         True,  True,  True,  True,  True,  True,  True,  True,  True,\n",
       "        False,  True,  True],\n",
       "       [False, False, False,  True, False, False, False, False,  True,\n",
       "         True,  True,  True,  True,  True, False,  True,  True,  True,\n",
       "         True,  True,  True,  True,  True,  True,  True,  True,  True,\n",
       "         True,  True,  True],\n",
       "       [False,  True, False, False,  True, False, False,  True, False,\n",
       "         True,  True,  True,  True,  True, False,  True,  True,  True,\n",
       "         True,  True,  True,  True,  True,  True, False,  True,  True,\n",
       "         True,  True,  True],\n",
       "       [False,  True,  True,  True, False,  True, False,  True,  True,\n",
       "         True, False,  True,  True,  True,  True,  True,  True,  True,\n",
       "         True,  True,  True,  True,  True,  True,  True,  True,  True,\n",
       "         True,  True,  True],\n",
       "       [False, False,  True, False, False,  True, False,  True,  True,\n",
       "        False,  True,  True,  True,  True,  True,  True,  True,  True,\n",
       "         True, False,  True,  True,  True,  True,  True,  True,  True,\n",
       "         True,  True,  True],\n",
       "       [False, False, False, False,  True,  True, False, False,  True,\n",
       "         True,  True,  True,  True,  True,  True, False,  True,  True,\n",
       "         True,  True,  True,  True,  True,  True,  True,  True,  True,\n",
       "         True,  True,  True],\n",
       "       [ True,  True, False,  True, False,  True,  True, False, False,\n",
       "         True, False,  True,  True,  True,  True,  True,  True,  True,\n",
       "         True,  True,  True,  True,  True,  True,  True,  True,  True,\n",
       "         True, False,  True],\n",
       "       [False,  True, False, False,  True, False, False, False, False,\n",
       "         True,  True,  True,  True,  True,  True,  True,  True,  True,\n",
       "         True,  True,  True,  True,  True,  True, False,  True,  True,\n",
       "         True,  True,  True],\n",
       "       [False,  True,  True,  True, False, False,  True,  True, False,\n",
       "         True,  True,  True,  True,  True,  True,  True,  True,  True,\n",
       "         True,  True, False,  True,  True, False,  True,  True,  True,\n",
       "         True,  True,  True],\n",
       "       [False, False, False, False, False,  True, False,  True,  True,\n",
       "         True, False,  True,  True,  True,  True,  True,  True,  True,\n",
       "        False,  True,  True,  True,  True,  True,  True,  True,  True,\n",
       "         True, False,  True],\n",
       "       [False, False, False,  True, False, False,  True,  True, False,\n",
       "         True,  True,  True,  True,  True,  True,  True,  True,  True,\n",
       "         True,  True,  True,  True,  True,  True,  True,  True,  True,\n",
       "         True,  True,  True],\n",
       "       [False, False, False, False,  True, False,  True, False,  True,\n",
       "        False,  True,  True, False,  True,  True,  True,  True,  True,\n",
       "         True,  True,  True,  True,  True,  True,  True,  True,  True,\n",
       "         True,  True, False],\n",
       "       [ True, False, False, False, False, False, False, False, False,\n",
       "        False,  True,  True,  True,  True,  True,  True,  True,  True,\n",
       "         True,  True,  True,  True,  True,  True,  True,  True,  True,\n",
       "         True,  True,  True],\n",
       "       [False, False, False, False, False,  True, False, False, False,\n",
       "         True, False,  True,  True,  True,  True,  True,  True,  True,\n",
       "         True,  True,  True,  True,  True,  True,  True,  True,  True,\n",
       "         True, False,  True],\n",
       "       [False, False, False,  True, False, False, False, False,  True,\n",
       "         True,  True,  True,  True,  True,  True,  True,  True,  True,\n",
       "         True,  True,  True,  True,  True,  True, False,  True,  True,\n",
       "         True,  True,  True],\n",
       "       [False, False, False,  True, False,  True, False,  True,  True,\n",
       "         True,  True, False,  True,  True,  True,  True,  True,  True,\n",
       "         True,  True,  True,  True,  True,  True,  True,  True,  True,\n",
       "         True,  True,  True],\n",
       "       [False, False, False, False, False, False, False,  True, False,\n",
       "        False,  True, False,  True,  True,  True,  True,  True,  True,\n",
       "         True,  True,  True,  True,  True,  True,  True,  True,  True,\n",
       "         True,  True,  True],\n",
       "       [False, False, False,  True,  True,  True, False, False,  True,\n",
       "         True, False,  True,  True,  True,  True,  True,  True,  True,\n",
       "         True,  True,  True,  True,  True,  True,  True,  True, False,\n",
       "         True,  True,  True],\n",
       "       [ True, False, False, False, False,  True, False, False,  True,\n",
       "         True,  True,  True,  True,  True,  True, False,  True,  True,\n",
       "         True,  True,  True,  True,  True,  True,  True,  True,  True,\n",
       "         True,  True, False],\n",
       "       [False, False, False, False,  True, False, False, False,  True,\n",
       "         True,  True,  True,  True,  True,  True,  True,  True,  True,\n",
       "         True,  True,  True,  True,  True, False,  True,  True, False,\n",
       "         True,  True,  True]])"
      ]
     },
     "execution_count": 9,
     "metadata": {},
     "output_type": "execute_result"
    }
   ],
   "source": [
    "with h5py.File('tic21002564_0.h5', 'r') as f:\n",
    "    print(f.keys())\n",
    "    print(f['lc'].keys())\n",
    "    print(f['flares'].keys())\n",
    "    print(f['injections'].keys())\n",
    "    \n",
    "    print(f['gp'].keys())\n",
    "    \n",
    "    flare_mask=f['lc']['flare_mask'][...]\n",
    "    \n",
    "    print(f[\"recovered\"].attrs[\"inject_index\"])\n",
    "    \n",
    "    recovered = f['recovered'][...]\n",
    "    injected_amp = f['injections']['amps'][...]\n",
    "    injected_fwhm = f['injections']['fwhms'][...]\n",
    "    \n",
    "recovered"
   ]
  },
  {
   "cell_type": "code",
   "execution_count": null,
   "id": "43cc7071",
   "metadata": {},
   "outputs": [],
   "source": []
  },
  {
   "cell_type": "code",
   "execution_count": 3,
   "id": "954ea8e4",
   "metadata": {},
   "outputs": [],
   "source": [
    "import sys\n",
    "sys.path.append('/Users/Tobin/Dropbox/Stellar_Flares_Project/CVZ/flair/post_processing/')\n",
    "sys.path.append('/Users/Tobin/Dropbox/Stellar_Flares_Project/CVZ/flair/flair/')\n",
    "from post import post_process\n",
    "\n",
    "\n",
    "from post import calculate_completeness\n",
    "\n",
    "from post import calculate_eds_of_injected_flares\n",
    "from post import fit_completeness_function"
   ]
  },
  {
   "cell_type": "code",
   "execution_count": 4,
   "id": "7c65a16b",
   "metadata": {},
   "outputs": [
    {
     "name": "stderr",
     "output_type": "stream",
     "text": [
      "/Users/Tobin/Dropbox/Stellar_Flares_Project/CVZ/flair/flair/lupita.py:27: RuntimeWarning: overflow encountered in exp\n",
      "  * np.exp(-D2 * t+ ((B / C) + (D2 * C / 2)) ** 2) * special.erfc(((B - t) / C) + (C * D2 / 2)))\n",
      "/Users/Tobin/Dropbox/Stellar_Flares_Project/CVZ/flair/flair/lupita.py:26: RuntimeWarning: invalid value encountered in multiply\n",
      "  * special.erfc(((B - t) / C) + (C * D1 / 2))) + ((1 / 2) * np.sqrt(np.pi) * A * C * f2\n",
      "/Users/Tobin/Dropbox/Stellar_Flares_Project/CVZ/flair/flair/lupita.py:25: RuntimeWarning: overflow encountered in exp\n",
      "  eqn = ((1 / 2) * np.sqrt(np.pi) * A * C * f1 * np.exp(-D1 * t + ((B / C) + (D1 * C / 2)) ** 2)\n",
      "/Users/Tobin/Dropbox/Stellar_Flares_Project/CVZ/flair/flair/lupita.py:25: RuntimeWarning: invalid value encountered in multiply\n",
      "  eqn = ((1 / 2) * np.sqrt(np.pi) * A * C * f1 * np.exp(-D1 * t + ((B / C) + (D1 * C / 2)) ** 2)\n"
     ]
    },
    {
     "data": {
      "text/plain": [
       "array([ 1.38950181,  1.89226874,  1.1831189 ,  0.18704523,  2.21218927,\n",
       "        3.64694769,  2.59962265,  2.01765514,  6.46296613,  3.83497008,\n",
       "        1.26480914,  4.73479287,  4.03865774,  3.41391656,  5.53164901,\n",
       "       15.69038985, 10.85375281, 34.30024091, 13.81143786,  9.41520285,\n",
       "        6.96687503, 17.25314455, 24.16580151, 20.92290062, 25.54417581,\n",
       "        3.18912601, 13.60479097, 50.19673638, 22.88486951, 37.61570519])"
      ]
     },
     "execution_count": 4,
     "metadata": {},
     "output_type": "execute_result"
    }
   ],
   "source": [
    "calculate_eds_of_injected_flares(injected_amp, injected_fwhm)"
   ]
  },
  {
   "cell_type": "code",
   "execution_count": 5,
   "id": "39fd7853",
   "metadata": {},
   "outputs": [
    {
     "data": {
      "text/plain": [
       "array([0.12, 0.2 , 0.12, 0.4 , 0.24, 0.44, 0.28, 0.44, 0.6 , 0.8 , 0.76,\n",
       "       0.92, 0.92, 0.92, 0.92, 0.92, 0.96, 1.  , 0.96, 0.96, 0.96, 1.  ,\n",
       "       1.  , 0.92, 0.88, 0.96, 0.92, 0.92, 0.88, 0.92])"
      ]
     },
     "execution_count": 5,
     "metadata": {},
     "output_type": "execute_result"
    }
   ],
   "source": [
    "calculate_completeness(recovered)\n",
    "\n"
   ]
  },
  {
   "cell_type": "code",
   "execution_count": 6,
   "id": "0f2ec5d6",
   "metadata": {},
   "outputs": [
    {
     "data": {
      "text/plain": [
       "<matplotlib.collections.PathCollection at 0x13c727c10>"
      ]
     },
     "execution_count": 6,
     "metadata": {},
     "output_type": "execute_result"
    },
    {
     "data": {
      "image/png": "[encoded data removed]",
      "text/plain": [
       "<Figure size 1200x800 with 1 Axes>"
      ]
     },
     "metadata": {},
     "output_type": "display_data"
    }
   ],
   "source": [
    "plt.scatter(calculate_eds_of_injected_flares(injected_amp, injected_fwhm), calculate_completeness(recovered))"
   ]
  },
  {
   "cell_type": "code",
   "execution_count": 7,
   "id": "7c0f4e9f",
   "metadata": {},
   "outputs": [
    {
     "data": {
      "text/plain": [
       "(array([0.1495276 , 0.15984049, 0.17071483, 0.18216056, 0.19418487,\n",
       "        0.2067919 , 0.21998229, 0.23375294, 0.24809661, 0.26300171,\n",
       "        0.27845201, 0.29442656, 0.3108995 , 0.32784011, 0.34521288,\n",
       "        0.36297766, 0.38108994, 0.39950124, 0.41815952, 0.4370098 ,\n",
       "        0.45599471, 0.47505521, 0.49413132, 0.51316285, 0.53209019,\n",
       "        0.55085502, 0.56940104, 0.5876746 , 0.60562531, 0.62320657,\n",
       "        0.64037591, 0.6570954 , 0.67333181, 0.68905678, 0.70424679,\n",
       "        0.7188832 , 0.73295204, 0.74644384, 0.75935339, 0.77167944,\n",
       "        0.78342435, 0.79459378, 0.80519629, 0.815243  , 0.8247472 ,\n",
       "        0.83372404, 0.84219019, 0.85016351, 0.85766277, 0.86470739,\n",
       "        0.87131723, 0.87751232, 0.88331273, 0.88873838, 0.89380894,\n",
       "        0.89854365, 0.9029613 , 0.9070801 , 0.91091764, 0.91449086,\n",
       "        0.917816  , 0.92090856, 0.92378336, 0.92645444, 0.92893515,\n",
       "        0.9312381 , 0.93337522, 0.93535775, 0.93719626, 0.9389007 ,\n",
       "        0.94048039, 0.94194409, 0.94329998, 0.94455572, 0.94571846,\n",
       "        0.94679489, 0.94779124, 0.9487133 , 0.9495665 , 0.95035585,\n",
       "        0.95108604, 0.95176143, 0.95238606, 0.95296368, 0.95349777,\n",
       "        0.95399159, 0.95444811, 0.95487014, 0.95526025, 0.95562082,\n",
       "        0.95595408, 0.95626208, 0.95654672, 0.95680975, 0.95705281,\n",
       "        0.95727741, 0.95748493, 0.95767668, 0.95785384, 0.95801752,\n",
       "        0.95816874, 0.95830844, 0.9584375 , 0.95855674, 0.95866688,\n",
       "        0.95876863, 0.95886263, 0.95894945, 0.95902966, 0.95910375,\n",
       "        0.95917218, 0.9592354 , 0.95929379, 0.95934772, 0.95939754,\n",
       "        0.95944355, 0.95948606, 0.95952532, 0.95956158, 0.95959507,\n",
       "        0.959626  , 0.95965457, 0.95968096, 0.95970534, 0.95972785,\n",
       "        0.95974864, 0.95976785, 0.95978559, 0.95980197, 0.9598171 ,\n",
       "        0.95983108, 0.95984398, 0.95985591, 0.95986692, 0.95987709,\n",
       "        0.95988648, 0.95989515, 0.95990316, 0.95991056, 0.9599174 ,\n",
       "        0.95992371, 0.95992954, 0.95993493, 0.9599399 , 0.95994449,\n",
       "        0.95994873, 0.95995265, 0.95995627, 0.95995961, 0.9599627 ,\n",
       "        0.95996555, 0.95996818, 0.95997061, 0.95997286, 0.95997493,\n",
       "        0.95997685, 0.95997862, 0.95998025, 0.95998176, 0.95998315,\n",
       "        0.95998444, 0.95998563, 0.95998673, 0.95998774, 0.95998868,\n",
       "        0.95998955, 0.95999034, 0.95999108, 0.95999176, 0.95999239,\n",
       "        0.95999297, 0.95999351, 0.95999401, 0.95999447, 0.95999489,\n",
       "        0.95999528, 0.95999564, 0.95999597, 0.95999628, 0.95999656,\n",
       "        0.95999683, 0.95999707, 0.95999729, 0.9599975 , 0.95999769,\n",
       "        0.95999787, 0.95999803, 0.95999818, 0.95999832, 0.95999845,\n",
       "        0.95999857, 0.95999868, 0.95999878, 0.95999887, 0.95999896,\n",
       "        0.95999904, 0.95999911, 0.95999918, 0.95999924, 0.9599993 ,\n",
       "        0.95999935, 0.9599994 , 0.95999945, 0.95999949, 0.95999953,\n",
       "        0.95999957, 0.9599996 , 0.95999963, 0.95999966, 0.95999968,\n",
       "        0.95999971, 0.95999973, 0.95999975, 0.95999977, 0.95999979,\n",
       "        0.9599998 , 0.95999982, 0.95999983, 0.95999985, 0.95999986,\n",
       "        0.95999987, 0.95999988, 0.95999989, 0.9599999 , 0.9599999 ,\n",
       "        0.95999991, 0.95999992, 0.95999992, 0.95999993, 0.95999994,\n",
       "        0.95999994, 0.95999994, 0.95999995, 0.95999995, 0.95999996,\n",
       "        0.95999996, 0.95999996, 0.95999997, 0.95999997, 0.95999997,\n",
       "        0.95999997, 0.95999998, 0.95999998, 0.95999998, 0.95999998,\n",
       "        0.95999998, 0.95999998, 0.95999998, 0.95999999, 0.95999999,\n",
       "        0.95999999, 0.95999999, 0.95999999, 0.95999999, 0.95999999,\n",
       "        0.95999999, 0.95999999, 0.95999999, 0.95999999, 0.95999999,\n",
       "        0.95999999, 0.95999999, 0.96      , 0.96      , 0.96      ,\n",
       "        0.96      , 0.96      , 0.96      , 0.96      , 0.96      ,\n",
       "        0.96      , 0.96      , 0.96      , 0.96      , 0.96      ,\n",
       "        0.96      , 0.96      , 0.96      , 0.96      , 0.96      ,\n",
       "        0.96      , 0.96      , 0.96      , 0.96      , 0.96      ,\n",
       "        0.96      , 0.96      , 0.96      , 0.96      , 0.96      ,\n",
       "        0.96      , 0.96      , 0.96      , 0.96      , 0.96      ,\n",
       "        0.96      , 0.96      , 0.96      , 0.96      , 0.96      ,\n",
       "        0.96      , 0.96      , 0.96      , 0.96      , 0.96      ,\n",
       "        0.96      , 0.96      , 0.96      , 0.96      , 0.96      ,\n",
       "        0.96      , 0.96      , 0.96      , 0.96      , 0.96      ,\n",
       "        0.96      , 0.96      , 0.96      , 0.96      , 0.96      ,\n",
       "        0.96      , 0.96      , 0.96      , 0.96      , 0.96      ,\n",
       "        0.96      , 0.96      , 0.96      , 0.96      , 0.96      ,\n",
       "        0.96      , 0.96      , 0.96      , 0.96      , 0.96      ,\n",
       "        0.96      , 0.96      , 0.96      , 0.96      , 0.96      ,\n",
       "        0.96      , 0.96      , 0.96      , 0.96      , 0.96      ,\n",
       "        0.96      , 0.96      , 0.96      , 0.96      , 0.96      ,\n",
       "        0.96      , 0.96      , 0.96      , 0.96      , 0.96      ,\n",
       "        0.96      , 0.96      , 0.96      , 0.96      , 0.96      ,\n",
       "        0.96      , 0.96      , 0.96      , 0.96      , 0.96      ,\n",
       "        0.96      , 0.96      , 0.96      , 0.96      , 0.96      ,\n",
       "        0.96      , 0.96      , 0.96      , 0.96      , 0.96      ,\n",
       "        0.96      , 0.96      , 0.96      , 0.96      , 0.96      ,\n",
       "        0.96      , 0.96      , 0.96      , 0.96      , 0.96      ,\n",
       "        0.96      , 0.96      , 0.96      , 0.96      , 0.96      ,\n",
       "        0.96      , 0.96      , 0.96      , 0.96      , 0.96      ,\n",
       "        0.96      , 0.96      , 0.96      , 0.96      , 0.96      ,\n",
       "        0.96      , 0.96      , 0.96      , 0.96      , 0.96      ,\n",
       "        0.96      , 0.96      , 0.96      , 0.96      , 0.96      ,\n",
       "        0.96      , 0.96      , 0.96      , 0.96      , 0.96      ,\n",
       "        0.96      , 0.96      , 0.96      , 0.96      , 0.96      ,\n",
       "        0.96      , 0.96      , 0.96      , 0.96      , 0.96      ,\n",
       "        0.96      , 0.96      , 0.96      , 0.96      , 0.96      ,\n",
       "        0.96      , 0.96      , 0.96      , 0.96      , 0.96      ,\n",
       "        0.96      , 0.96      , 0.96      , 0.96      , 0.96      ,\n",
       "        0.96      , 0.96      , 0.96      , 0.96      , 0.96      ,\n",
       "        0.96      , 0.96      , 0.96      , 0.96      , 0.96      ,\n",
       "        0.96      , 0.96      , 0.96      , 0.96      , 0.96      ,\n",
       "        0.96      , 0.96      , 0.96      , 0.96      , 0.96      ,\n",
       "        0.96      , 0.96      , 0.96      , 0.96      , 0.96      ,\n",
       "        0.96      , 0.96      , 0.96      , 0.96      , 0.96      ,\n",
       "        0.96      , 0.96      , 0.96      , 0.96      , 0.96      ,\n",
       "        0.96      , 0.96      , 0.96      , 0.96      , 0.96      ,\n",
       "        0.96      , 0.96      , 0.96      , 0.96      , 0.96      ,\n",
       "        0.96      , 0.96      , 0.96      , 0.96      , 0.96      ,\n",
       "        0.96      , 0.96      , 0.96      , 0.96      , 0.96      ,\n",
       "        0.96      , 0.96      , 0.96      , 0.96      , 0.96      ,\n",
       "        0.96      ]),\n",
       " 0.3834350770130003,\n",
       " 0.7950153464095682,\n",
       " 2.312961751696287)"
      ]
     },
     "execution_count": 7,
     "metadata": {},
     "output_type": "execute_result"
    }
   ],
   "source": [
    "fit_completeness_function(calculate_completeness(recovered), recovered, \n",
    "                          calculate_eds_of_injected_flares(injected_amp, injected_fwhm))"
   ]
  },
  {
   "cell_type": "code",
   "execution_count": null,
   "id": "8ba56d8c",
   "metadata": {},
   "outputs": [],
   "source": []
  },
  {
   "cell_type": "code",
   "execution_count": null,
   "id": "695327a0",
   "metadata": {},
   "outputs": [],
   "source": []
  },
  {
   "cell_type": "code",
   "execution_count": null,
   "id": "b11c5c49",
   "metadata": {},
   "outputs": [],
   "source": [
    "def get_lc_table(file_path):\n",
    "    with h5py.File(file_path, 'r') as f:\n",
    "        table_dict = {}\n",
    "        for key in f[\"lc\"].keys():\n",
    "            table_dict[key] = f[\"lc\"][key][...]\n",
    "        table = Table(table_dict)\n",
    "    return table"
   ]
  },
  {
   "cell_type": "code",
   "execution_count": null,
   "id": "284a3e7d",
   "metadata": {},
   "outputs": [],
   "source": [
    "weird_sector_tab=get_lc_table(\"tic21002564_3.h5\")\n",
    "weird_sector_tab"
   ]
  },
  {
   "cell_type": "code",
   "execution_count": null,
   "id": "c7c025b7",
   "metadata": {},
   "outputs": [],
   "source": [
    "weird_sector_tab[np.isnan(np.array(weird_sector_tab['flux']))]"
   ]
  },
  {
   "cell_type": "code",
   "execution_count": null,
   "id": "8423c32d",
   "metadata": {},
   "outputs": [],
   "source": []
  },
  {
   "cell_type": "code",
   "execution_count": null,
   "id": "3b8dc93f",
   "metadata": {},
   "outputs": [],
   "source": [
    "def count_sector_files_in_output_dir(directory, tic_id):\n",
    "    count = 0\n",
    "    for file in os.listdir(directory):\n",
    "        if fnmatch.fnmatch(file, str(tic_id)+'*'):\n",
    "            count += 1\n",
    "    return count\n",
    "\n",
    "count_sector_files_in_output_dir('/Users/Tobin/Dropbox/Stellar_Flares_Project/CVZ/flair/output/', 'tic21002564')"
   ]
  },
  {
   "cell_type": "code",
   "execution_count": null,
   "id": "6da16d90",
   "metadata": {},
   "outputs": [],
   "source": [
    "with h5py.File('tic21002564_3.h5', 'r') as f:\n",
    "    print(f.keys())\n",
    "    print(f['lc'].keys())\n",
    "    flare_mask=f['lc']['flare_mask'][...]\n",
    "    \n",
    "    print(f[\"recovered\"].attrs[\"inject_index\"])"
   ]
  },
  {
   "cell_type": "code",
   "execution_count": null,
   "id": "f7b095b4",
   "metadata": {},
   "outputs": [],
   "source": []
  },
  {
   "cell_type": "code",
   "execution_count": null,
   "id": "c61a81ee",
   "metadata": {},
   "outputs": [],
   "source": [
    "tic_id = 'tic21002564'\n",
    "sectors_available = count_sector_files_in_output_dir('/Users/Tobin/Dropbox/Stellar_Flares_Project/CVZ/flair/output/', tic_id)\n",
    "\n",
    "list_of_file_names = []\n",
    "\n",
    "for i in range(1,sectors_available):\n",
    "    list_of_file_names.append(f'{tic_id}_{i}.h5')\n",
    "    \n",
    "list_of_file_names "
   ]
  },
  {
   "cell_type": "code",
   "execution_count": null,
   "id": "d4f10ef9",
   "metadata": {},
   "outputs": [],
   "source": [
    "\n",
    "def copy_group(src, dest):\n",
    "    \"\"\"\n",
    "    Recursively copy all contents from src group to dest group.\n",
    "    \"\"\"\n",
    "    for name, item in src.items():\n",
    "        if isinstance(item, h5py.Dataset):\n",
    "            dest.copy(item, name)\n",
    "        elif isinstance(item, h5py.Group):\n",
    "            new_group = dest.create_group(name)\n",
    "            copy_group(item, new_group)\n",
    "\n",
    "def combine_hdf5_files(input_files, output_file):\n",
    "    \"\"\"\n",
    "    Combine multiple HDF5 files into a single file. Each input file becomes its own group in the output file.\n",
    "    \n",
    "    Parameters:\n",
    "    - input_files: List of paths to the input HDF5 files.\n",
    "    - output_file: Path to the output HDF5 file.\n",
    "    \"\"\"\n",
    "    with h5py.File(output_file, 'w') as h5_out:\n",
    "        for file_path in input_files:\n",
    "            # Use the file name (without extension) as the group name\n",
    "            group_name = 'Sector'+os.path.splitext(os.path.basename(file_path))[0][11:]\n",
    "            with h5py.File(file_path, 'r') as h5_in:\n",
    "                # Create a new group in the output file for this input file\n",
    "                new_group = h5_out.create_group(group_name)\n",
    "                # Copy all contents from the input file to the new group\n",
    "                copy_group(h5_in, new_group)\n",
    "\n"
   ]
  },
  {
   "cell_type": "code",
   "execution_count": null,
   "id": "ed4fcc92",
   "metadata": {},
   "outputs": [],
   "source": [
    "combine_hdf5_files(list_of_file_names, 'test_output_file.h5')"
   ]
  },
  {
   "cell_type": "code",
   "execution_count": null,
   "id": "5f6afc04",
   "metadata": {},
   "outputs": [],
   "source": [
    "with h5py.File('test_output_file.h5', 'r') as f:\n",
    "    print(f.keys())\n",
    "    print(f['Sector_8'].keys())\n",
    "    print(f['Sector_1']['injections'].keys())\n",
    "    \n",
    "    print(f['Sector_1']['injections']['amps'][:])\n",
    "    \n",
    "    print(len(f['Sector_1']['injections']['amps'][:]))\n",
    "    print(len(f['Sector_1']['injections']['fwhms'][:]))\n",
    "    \n",
    "    print(f['Sector_2']['injections']['amps'][:])\n",
    "    \n",
    "    \n",
    "    print(f['Sector_1']['injections']['fwhms'][:])\n",
    "    \n",
    "    print(f['Sector_1']['recovered'][:])\n",
    "    print(f['Sector_1']['recovered'][:].shape)\n",
    "    print(f['Sector_1']['injections']['insert_points'][:])\n",
    "    print(np.median(f['Sector_1']['lc']['flux_err'][:])/ np.median(f['Sector_1']['lc']['flux'][:]))"
   ]
  },
  {
   "cell_type": "markdown",
   "id": "13502fd8",
   "metadata": {},
   "source": [
    "# Tom messing with stuff here"
   ]
  },
  {
   "cell_type": "code",
   "execution_count": null,
   "id": "608d620d",
   "metadata": {},
   "outputs": [],
   "source": [
    "from importlib import reload"
   ]
  },
  {
   "cell_type": "code",
   "execution_count": null,
   "id": "552e5613",
   "metadata": {},
   "outputs": [],
   "source": [
    "import flair"
   ]
  },
  {
   "cell_type": "code",
   "execution_count": null,
   "id": "cc1ea9d2",
   "metadata": {},
   "outputs": [],
   "source": [
    "reload(flair)"
   ]
  },
  {
   "cell_type": "code",
   "execution_count": null,
   "id": "02c3a85e",
   "metadata": {},
   "outputs": [],
   "source": [
    "tlc = TessLightCurve(time=weird_sector_tab['time'], flux=weird_sector_tab['flux'], \n",
    "                     flux_err=weird_sector_tab['flux_err'])"
   ]
  },
  {
   "cell_type": "code",
   "execution_count": null,
   "id": "404e80f5",
   "metadata": {},
   "outputs": [],
   "source": [
    "opt_gp, soln = flair.gp.fit_GP(tlc, flare_mask)\n",
    "\n"
   ]
  },
  {
   "cell_type": "code",
   "execution_count": null,
   "id": "cdfb1a6e",
   "metadata": {},
   "outputs": [],
   "source": [
    "soln"
   ]
  },
  {
   "cell_type": "code",
   "execution_count": null,
   "id": "7d03831c",
   "metadata": {},
   "outputs": [],
   "source": [
    "opt_gp.mean"
   ]
  },
  {
   "cell_type": "code",
   "execution_count": null,
   "id": "1456a3c3",
   "metadata": {},
   "outputs": [],
   "source": [
    "with h5py.File('test_output_file.h5', 'r') as h5:\n",
    "    sector_name = \"Sector_9\"\n",
    "    print(sector_name)\n",
    "    sector_group = h5[sector_name] \n",
    "    sector_specific_data[sector_name] = {}\n",
    "    \n",
    "    print(sector_group[\"gp\"][\"mu\"][...])\n",
    "    print(sector_group[\"gp\"][\"variance\"][...])\n",
    "    \n",
    "    for dset_name in sector_group['flares'].keys():\n",
    "        print(dset_name)\n",
    "        dset = sector_group['flares'][dset_name][:]\n",
    "        print(dset)\n",
    "        sector_specific_data[sector_name][dset_name]= dset\n",
    "\n",
    "    for dset_name in sector_group['lc'].keys():\n",
    "        dset = sector_group['lc'][dset_name][:]\n",
    "        sector_specific_data[sector_name][dset_name]= dset\n",
    "\n",
    "    sector_recovered= sector_group['recovered'][:]\n",
    "    sector_specific_data[sector_name]['recovered']= sector_recovered"
   ]
  },
  {
   "cell_type": "markdown",
   "id": "f2c49eb5",
   "metadata": {},
   "source": [
    "# Tom stops messing here"
   ]
  },
  {
   "cell_type": "code",
   "execution_count": null,
   "id": "d13037eb",
   "metadata": {},
   "outputs": [],
   "source": [
    "sector_specific_data = {}\n",
    "\n",
    "with h5py.File('test_output_file.h5', 'r') as h5:\n",
    "    for sector_name in h5.keys():  # Explicitly use .keys() to iterate over all groups\n",
    "        print(sector_name)\n",
    "        sector_group = h5[sector_name] \n",
    "        sector_specific_data[sector_name] = {}\n",
    "        for dset_name in sector_group['flares'].keys():\n",
    "            print(dset_name)\n",
    "            dset = sector_group['flares'][dset_name][:]\n",
    "            print(dset)\n",
    "            sector_specific_data[sector_name][dset_name]= dset\n",
    "            \n",
    "        for dset_name in sector_group['lc'].keys():\n",
    "            dset = sector_group['lc'][dset_name][:]\n",
    "            sector_specific_data[sector_name][dset_name]= dset\n",
    "        \n",
    "        sector_recovered= sector_group['recovered'][:]\n",
    "        sector_specific_data[sector_name]['recovered']= sector_recovered\n",
    "            \n",
    "sector_specific_data"
   ]
  },
  {
   "cell_type": "code",
   "execution_count": null,
   "id": "0211e9b7",
   "metadata": {},
   "outputs": [],
   "source": [
    "for sector in sector_specific_data:\n",
    "    print(sector_specific_data[sector])"
   ]
  },
  {
   "cell_type": "code",
   "execution_count": null,
   "id": "83a56fda",
   "metadata": {},
   "outputs": [],
   "source": [
    "for i in range(1,len(sector_specific_data)):\n",
    "    print(sector_specific_data['Sector_'+str(i)]['equivalent_durations'])"
   ]
  },
  {
   "cell_type": "code",
   "execution_count": null,
   "id": "8465efc8",
   "metadata": {},
   "outputs": [],
   "source": [
    "with h5py.File('test_output_file.hdf5', 'r') as f:\n",
    "    s1_t=f['Sector_1']['lc']['time'][:]\n",
    "    s1_amps=f['Sector_1']['injections']['amps'][:]\n",
    "    s1_fwhms=f['Sector_1']['injections']['fwhms'][:]\n",
    "    s1_comp=f['Sector_1']['recovered'][:]"
   ]
  },
  {
   "cell_type": "code",
   "execution_count": null,
   "id": "e6944095",
   "metadata": {},
   "outputs": [],
   "source": [
    "plt.scatter(np.arange(0,20),s1_amps)\n",
    "plt.ylabel('Injected Flare Amplitude')\n",
    "plt.show()\n",
    "\n",
    "plt.scatter(np.arange(0,20),s1_fwhms)\n",
    "plt.ylabel('Injected Flare FWHM')"
   ]
  },
  {
   "cell_type": "code",
   "execution_count": null,
   "id": "10076b69",
   "metadata": {},
   "outputs": [],
   "source": []
  },
  {
   "cell_type": "code",
   "execution_count": null,
   "id": "eb746b4b",
   "metadata": {},
   "outputs": [],
   "source": [
    "len(s1_comp[0])"
   ]
  },
  {
   "cell_type": "code",
   "execution_count": null,
   "id": "3f2493a5",
   "metadata": {},
   "outputs": [],
   "source": [
    "(np.sum(comp, axis=0)/len(comp))[:-5]"
   ]
  },
  {
   "cell_type": "code",
   "execution_count": null,
   "id": "6bc39fca",
   "metadata": {},
   "outputs": [],
   "source": [
    "from flair import lupita"
   ]
  },
  {
   "cell_type": "code",
   "execution_count": null,
   "id": "80752c14",
   "metadata": {},
   "outputs": [],
   "source": [
    "plt.scatter(np.arange(0,27, step=0.00138886),np.nan_to_num(lupita.flare_model(np.arange(0,27, step=0.00138886), np.median(10), s1_fwhms[-1], s1_amps[-1]), nan=0.0))"
   ]
  },
  {
   "cell_type": "code",
   "execution_count": null,
   "id": "a62d8e0b",
   "metadata": {},
   "outputs": [],
   "source": [
    "from flair import flares\n",
    "from scipy.integrate import trapezoid"
   ]
  },
  {
   "cell_type": "code",
   "execution_count": null,
   "id": "434665f4",
   "metadata": {},
   "outputs": [],
   "source": [
    "(trapezoid(x=dummy_time[7000:8000], y=model_flux[7000:8000])* u.day).to(u.s).value"
   ]
  },
  {
   "cell_type": "code",
   "execution_count": null,
   "id": "0b04724f",
   "metadata": {},
   "outputs": [],
   "source": [
    "def calculate_completeness(amps, fwhms, recovered):\n",
    "    \"\"\"\n",
    "    Calculate the completeness of the injected flares.\n",
    "    \n",
    "    Parameters:\n",
    "    - amps: Array of flare amplitudes\n",
    "    - fwhms: Array of flare FWHMs\n",
    "    - recovered: Array of booleans indicating whether each flare was recovered\n",
    "    \n",
    "    Returns:\n",
    "    - completeness: 2D array of the fraction of injected flares that were recovered \n",
    "    and the equivalent duration of the injected flares.\n",
    "    \"\"\"\n",
    "\n",
    "    # Calculate the equivalent duration of the injected flares\n",
    "    # Need a dummy time array to calculate the equivalent duration\n",
    "    # Step size is mapped to TESS 2 minute cadence\n",
    "    dummy_time=np.arange(0,27, step=0.00138886)\n",
    "    \n",
    "    injected_eds=np.zeros(len(amps))\n",
    "\n",
    "    for i in range(len(amps)):\n",
    "        model_flux=np.nan_to_num(lupita.flare_model(dummy_time, 10, fwhms[i],\n",
    "                                      amps[i]), nan=0.0)\n",
    "    \n",
    "        injected_eds[i]=(trapezoid(x=dummy_time[7000:8000], y=model_flux[7000:8000])* u.day ).to(u.s).value\n",
    "\n",
    "\n",
    "    completeness=(np.sum(recovered, axis=0)/len(recovered))\n",
    "    \n",
    "\n",
    "    return completeness, injected_eds"
   ]
  },
  {
   "cell_type": "code",
   "execution_count": null,
   "id": "e446f1f2",
   "metadata": {},
   "outputs": [],
   "source": [
    "c, ed = calculate_completeness(s1_amps, s1_fwhms, s1_comp)\n",
    "\n",
    "plt.scatter(ed, c[:-5])"
   ]
  },
  {
   "cell_type": "code",
   "execution_count": null,
   "id": "db84c6de",
   "metadata": {},
   "outputs": [],
   "source": [
    "calculate_completeness(new_amps, np.random.lognormal(mean=np.log(0.002), sigma=0.7, size=20), s1_comp)[1]"
   ]
  },
  {
   "cell_type": "code",
   "execution_count": null,
   "id": "5e46b734",
   "metadata": {},
   "outputs": [],
   "source": [
    "s1_amps"
   ]
  },
  {
   "cell_type": "code",
   "execution_count": null,
   "id": "9b4565cf",
   "metadata": {},
   "outputs": [],
   "source": [
    "new_amps = np.geomspace(.004, 50 *.004, 30)\n",
    "\n",
    "plt.scatter(np.linspace(1,30, 30), new_amps)"
   ]
  },
  {
   "cell_type": "code",
   "execution_count": null,
   "id": "9be07a60",
   "metadata": {},
   "outputs": [],
   "source": []
  },
  {
   "cell_type": "code",
   "execution_count": null,
   "id": "6b374906",
   "metadata": {},
   "outputs": [],
   "source": []
  },
  {
   "cell_type": "code",
   "execution_count": null,
   "id": "445d4680",
   "metadata": {},
   "outputs": [],
   "source": []
  },
  {
   "cell_type": "code",
   "execution_count": null,
   "id": "a5f99da3",
   "metadata": {},
   "outputs": [],
   "source": []
  },
  {
   "cell_type": "code",
   "execution_count": null,
   "id": "7571cfdf",
   "metadata": {},
   "outputs": [],
   "source": []
  },
  {
   "cell_type": "code",
   "execution_count": null,
   "id": "bedabec0",
   "metadata": {},
   "outputs": [],
   "source": [
    "#Investigating Why the GP is failing\n",
    "\n",
    "import celerite2"
   ]
  },
  {
   "cell_type": "code",
   "execution_count": null,
   "id": "18a656ac",
   "metadata": {},
   "outputs": [],
   "source": [
    "with h5py.File('tic21002564_3.h5', 'r') as f:\n",
    "    print(f.keys())\n",
    "    print(f['lc'].keys())\n",
    "    flare_mask=f['lc']['flare_mask'][...]\n",
    "    "
   ]
  },
  {
   "cell_type": "code",
   "execution_count": null,
   "id": "6f15ff38",
   "metadata": {},
   "outputs": [],
   "source": [
    "from flair.gp import fit_GP"
   ]
  },
  {
   "cell_type": "code",
   "execution_count": null,
   "id": "859f1fb1",
   "metadata": {},
   "outputs": [],
   "source": [
    "from lightkurve import TessLightCurve"
   ]
  },
  {
   "cell_type": "code",
   "execution_count": null,
   "id": "371b93b4",
   "metadata": {},
   "outputs": [],
   "source": [
    "tlc = TessLightCurve(time=weird_sector_tab['time'], flux=weird_sector_tab['flux'], \n",
    "                     flux_err=weird_sector_tab['flux_err'])\n",
    "\n"
   ]
  },
  {
   "cell_type": "code",
   "execution_count": null,
   "id": "4faa23d3",
   "metadata": {},
   "outputs": [],
   "source": [
    "opt_gp, soln=fit_GP(tlc, flare_mask)\n",
    "\n",
    "mu, variance = opt_gp.predict(y=tlc.flux.value[~flare_mask], t=tlc.time.value, return_var=True)"
   ]
  },
  {
   "cell_type": "code",
   "execution_count": null,
   "id": "334531df",
   "metadata": {},
   "outputs": [],
   "source": [
    "mu"
   ]
  },
  {
   "cell_type": "code",
   "execution_count": null,
   "id": "4e8ccb4a",
   "metadata": {},
   "outputs": [],
   "source": [
    "soln"
   ]
  },
  {
   "cell_type": "code",
   "execution_count": null,
   "id": "d5af9a45",
   "metadata": {},
   "outputs": [],
   "source": [
    "plt.plot(tlc.time.value, mu)\n",
    "plt.scatter(weird_sector_tab['time'], weird_sector_tab['flux'], color='k', alpha=.2)"
   ]
  },
  {
   "cell_type": "code",
   "execution_count": null,
   "id": "b8e9e6bf",
   "metadata": {},
   "outputs": [],
   "source": [
    "import tensorflow\n",
    "import scipy\n",
    "\n",
    "\n",
    "print(\"tensorflow:\", tensorflow.__version__)\n",
    "\n",
    "print('celerite:', celerite2.__version__)\n",
    "\n",
    "print('numpy:', np.__version__)\n",
    "\n",
    "print('scipy:', scipy.__version__)"
   ]
  },
  {
   "cell_type": "code",
   "execution_count": null,
   "id": "1499a48d",
   "metadata": {},
   "outputs": [],
   "source": [
    "import keras\n",
    "keras.__version__\n"
   ]
  },
  {
   "cell_type": "code",
   "execution_count": null,
   "id": "e1e482d7",
   "metadata": {},
   "outputs": [],
   "source": []
  }
 ],
 "metadata": {
  "kernelspec": {
   "display_name": "Python 3 (ipykernel)",
   "language": "python",
   "name": "python3"
  },
  "language_info": {
   "codemirror_mode": {
    "name": "ipython",
    "version": 3
   },
   "file_extension": ".py",
   "mimetype": "text/x-python",
   "name": "python",
   "nbconvert_exporter": "python",
   "pygments_lexer": "ipython3",
   "version": "3.11.5"
  }
 },
 "nbformat": 4,
 "nbformat_minor": 5
}
